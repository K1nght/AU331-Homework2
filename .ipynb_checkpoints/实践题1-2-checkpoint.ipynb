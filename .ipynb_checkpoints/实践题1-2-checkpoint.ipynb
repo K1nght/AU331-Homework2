{
 "cells": [
  {
   "cell_type": "markdown",
   "metadata": {},
   "source": [
    "# 实践题一\n",
    "# 2）设计并实现一个深度学习网络结构，能够在MNIST数据集上（前6w个训练，后1w个测试）获得至少99%的测试精度 "
   ]
  },
  {
   "cell_type": "code",
   "execution_count": 1,
   "metadata": {},
   "outputs": [
    {
     "data": {
      "text/plain": [
       "<torch._C.Generator at 0x1e499fc0190>"
      ]
     },
     "execution_count": 1,
     "metadata": {},
     "output_type": "execute_result"
    }
   ],
   "source": [
    "# import library\n",
    "import torch\n",
    "import torch.nn as nn\n",
    "import torch.nn.functional as F\n",
    "import torch.optim as optim\n",
    "import torchvision\n",
    "import torchvision.transforms as transforms\n",
    "import matplotlib.pyplot as plt\n",
    "import numpy as np\n",
    "from tqdm import tqdm\n",
    "torch.manual_seed(0)"
   ]
  },
  {
   "cell_type": "code",
   "execution_count": 2,
   "metadata": {},
   "outputs": [
    {
     "name": "stderr",
     "output_type": "stream",
     "text": [
      "E:\\Anaconda\\envs\\pytorch\\lib\\site-packages\\torchvision\\datasets\\mnist.py:55: UserWarning: train_data has been renamed data\n",
      "  warnings.warn(\"train_data has been renamed data\")\n"
     ]
    },
    {
     "name": "stdout",
     "output_type": "stream",
     "text": [
      "The size of the dataset is  [60000, 28, 28]\n",
      "The mean and the std of the training dataset is respectively 0.1307 and 0.3081.\n",
      "Train dataset:\n",
      " Dataset MNIST\n",
      "    Number of datapoints: 60000\n",
      "    Root location: ./data\n",
      "    Split: Train\n",
      "    StandardTransform\n",
      "Transform: Compose(\n",
      "               ToTensor()\n",
      "               Normalize(mean=[tensor(0.1307)], std=[tensor(0.3081)])\n",
      "           )\n",
      "Test dataset:\n",
      " Dataset MNIST\n",
      "    Number of datapoints: 10000\n",
      "    Root location: ./data\n",
      "    Split: Test\n",
      "    StandardTransform\n",
      "Transform: Compose(\n",
      "               ToTensor()\n",
      "               Normalize(mean=[tensor(0.1307)], std=[tensor(0.3081)])\n",
      "           )\n"
     ]
    }
   ],
   "source": [
    "# 首先通过torchvision.datasets.MNIST直接导入MNIST数据集\n",
    "train_set = torchvision.datasets.MNIST(root='./data',\n",
    "                                      train=True, download=False)# , transform=transform\n",
    "\n",
    "# 查看数据集大小维度以及计算训练数据的 均值 方差\n",
    "print(\"The size of the dataset is \", list(train_set.train_data.size()))\n",
    "train_mean = train_set.train_data.float().mean()/255\n",
    "train_std = train_set.train_data.float().std()/255\n",
    "print(\"The mean and the std of the training dataset is respectively %.4f and %.4f.\" % (train_mean, train_std))\n",
    "\n",
    "# 构建预训练transform函数\n",
    "transform = transforms.Compose([transforms.ToTensor(),transforms.Normalize([train_mean],[train_std])])\n",
    "\n",
    "# 将训练数据和测试数据重新通过transform后导入\n",
    "train_set = torchvision.datasets.MNIST(root='./data',\n",
    "                                      train=True, download=False, transform=transform)# \n",
    "print(\"Train dataset:\\n\", train_set)\n",
    "train_loader = torch.utils.data.DataLoader(train_set, batch_size=4,\n",
    "                                          shuffle=True, num_workers=2)\n",
    "test_set = torchvision.datasets.MNIST(root='./data',\n",
    "                                     train=False, download=True, transform=transform)# \n",
    "print(\"Test dataset:\\n\", test_set)\n",
    "test_loader = torch.utils.data.DataLoader(test_set, batch_size=4,\n",
    "                                         shuffle=True, num_workers=2)\n",
    "# 定义数据集中每个label对应的类名\n",
    "classes = ('0', '1', '2', '3', '4', '5', '6' ,'7', '8', '9')"
   ]
  },
  {
   "cell_type": "code",
   "execution_count": 3,
   "metadata": {},
   "outputs": [
    {
     "data": {
      "image/png": "[encoded data removed]",
      "text/plain": [
       "<Figure size 432x288 with 1 Axes>"
      ]
     },
     "metadata": {
      "needs_background": "light"
     },
     "output_type": "display_data"
    }
   ],
   "source": [
    "# 显示单张训练数据图片以及它的label\n",
    "def imshow(data_set, mean=None, std=None):\n",
    "    idx = np.random.randint(0, len(data_set), 1).item() # 随机从训练集中挑选一张图片\n",
    "#     print(data_set[idx])\n",
    "    image, label = train_set[idx]\n",
    "    image = torch.squeeze(image, dim=0)  # 将通道维度去除\n",
    "    if mean is not None and std is not None:\n",
    "        image = image*std + mean # unnormalize\n",
    "    plt.imshow(image.numpy())\n",
    "    plt.title(\"The label of the img is %d\" % label)\n",
    "    plt.show()\n",
    "    \n",
    "# 随机显示一张图片\n",
    "imshow(train_set, mean=train_mean, std=train_std)"
   ]
  },
  {
   "cell_type": "markdown",
   "metadata": {},
   "source": [
    "# Define my Convolutional Neural Network\n",
    "## 采用两层卷积层及三层全连接层\n",
    "![img](./img/cnn架构.jpg)"
   ]
  },
  {
   "cell_type": "code",
   "execution_count": 4,
   "metadata": {
    "collapsed": true
   },
   "outputs": [],
   "source": [
    "# 定义自己的卷积神经网络\n",
    "class HZH(nn.Module):\n",
    "    def __init__(self):\n",
    "        super(HZH, self).__init__()\n",
    "        self.conv1 = nn.Conv2d(1, 16, 5)       # input 1 x 28 x 28; output 16 x 24 x 24\n",
    "        self.pool = nn.MaxPool2d(2, 2)        # input 16 x 24 x 24; output 16 x 12 x 12\n",
    "        self.conv2 = nn.Conv2d(16, 16, 5)      # input 16 x 12 x 12; output 16 x 8 x 8\n",
    "        self.fc1 = nn.Linear(16 * 4 * 4, 128) # input 16 x 4 x 4;  output 128\n",
    "        self.fc2 = nn.Linear(128, 64)         # input 128;         output 64\n",
    "        self.fc3 = nn.Linear(64, 10)          # input 64;          output 10\n",
    "        self.dropout = nn.Dropout(0.1)        # 在训练过程中使用dropout防止过拟合\n",
    "        \n",
    "    def forward(self, x):\n",
    "        # 每层卷积后都会经过relu激活函数以及池化操作\n",
    "        x = self.pool(F.relu(self.conv1(x)))\n",
    "        x = self.pool(F.relu(self.conv2(x)))\n",
    "        # 将特征图拉成向量传输给全连接层\n",
    "        x = x.view(-1, 16 * 4 * 4)\n",
    "        # 使用relue作为全连接层的激活函数\n",
    "        x = F.relu(self.fc1(x))\n",
    "        x = self.dropout(x) # 加入dropout层防止过拟合\n",
    "        x = F.relu(self.fc2(x))\n",
    "        # 最后一层全连接层不通过relu激活函数\n",
    "        x = self.fc3(x)\n",
    "        return x\n",
    "    \n",
    "    def predict(self, x):\n",
    "        x = self.pool(F.relu(self.conv1(x)))\n",
    "        x = self.pool(F.relu(self.conv2(x)))\n",
    "        # 将特征图拉成向量传输给全连接层\n",
    "        x = x.view(-1, 16 * 4 * 4)\n",
    "        # 使用relue作为全连接层的激活函数\n",
    "        x = F.relu(self.fc1(x))\n",
    "        # 预测过程中不使用dropout\n",
    "        x = F.relu(self.fc2(x))\n",
    "        # 最后一层全连接层不通过relu激活函数\n",
    "        x = self.fc3(x)\n",
    "        \n",
    "        _, pred = torch.max(x.data, 1)\n",
    "        return pred"
   ]
  },
  {
   "cell_type": "markdown",
   "metadata": {},
   "source": [
    "# 定义训练类"
   ]
  },
  {
   "cell_type": "code",
   "execution_count": 5,
   "metadata": {
    "collapsed": true
   },
   "outputs": [],
   "source": [
    "class training_process:\n",
    "    def __init__(self, train_loader, test_loader, model, criterion, optimizer,\n",
    "                  epoch=10, report_freq=2000):\n",
    "        \"\"\"\n",
    "            train_loader: 训练数据Dataloader\n",
    "            test_loader: 测试数据Dataloader\n",
    "            model: 使用的模型\n",
    "            criterion: 损失函数\n",
    "            optimizer: 优化方法\n",
    "            epoch: 训练轮数\n",
    "            report_freq: 每report_freq个batch会对train_loss和test_loss进行一次check\n",
    "        \"\"\"\n",
    "        self.train_loader = train_loader\n",
    "        self.test_loader = test_loader\n",
    "        self.model = model\n",
    "        self.criterion = criterion\n",
    "        self.optimizer = optimizer\n",
    "        self.train_size = len(train_loader)\n",
    "        self.test_size = len(test_loader)\n",
    "        self.epoch = epoch\n",
    "        self.report_freq = report_freq\n",
    "        self.loss_train = []\n",
    "        self.loss_test = []\n",
    "        self.acc_train = []\n",
    "        self.acc_test = []\n",
    "    \n",
    "    # 清空已有的训练过程\n",
    "    def clear(self):\n",
    "        self.loss_train = []\n",
    "        self.loss_test = []\n",
    "        self.acc_train = []\n",
    "        self.acc_test = []\n",
    "        \n",
    "    # 输出训练过程数据\n",
    "    def checkpoint(self):\n",
    "        return self.loss_train, self.loss_test, self.acc_train, self.acc_test\n",
    "    \n",
    "    # 定义训练过程\n",
    "    def train(self):\n",
    "        for epoch in tqdm(range(self.epoch)):\n",
    "            train_loss_sum = 0.0\n",
    "            for i, train_data in enumerate(self.train_loader):\n",
    "                # 加载一个batch的数据\n",
    "                train_inputs, train_labels = train_data\n",
    "                # 清优化器梯度\n",
    "                self.optimizer.zero_grad()\n",
    "                # 正向传播计算误差\n",
    "                train_outputs = self.model(train_inputs)\n",
    "                train_loss = self.criterion(train_outputs, train_labels)\n",
    "                # 反向传播计算梯度\n",
    "                train_loss.backward()\n",
    "                # 优化器更新模型参数\n",
    "                self.optimizer.step()\n",
    "                \n",
    "                train_loss_sum += train_loss.item()# 添加训练误差\n",
    "                if i % self.report_freq == self.report_freq-1:\n",
    "                    self.loss_train.append(train_loss_sum/self.report_freq)\n",
    "                    # 计算测试集误差\n",
    "                    test_loss_sum = 0.0\n",
    "                    with torch.no_grad():\n",
    "                        for test_data in self.test_loader:\n",
    "                            test_inputs, test_labels = test_data\n",
    "                            test_outputs = self.model(test_inputs)\n",
    "                            test_loss_sum += self.criterion(test_outputs, test_labels)\n",
    "                    self.loss_test.append(test_loss_sum / self.test_size)\n",
    "                    \n",
    "                    print('[%d, %5d]|training loss: %.6f| testing loss: %.6f' %\n",
    "                     (epoch + 1, i + 1, train_loss_sum / self.report_freq, test_loss_sum / self.test_size))\n",
    "                    train_loss_sum = 0.0\n",
    "            \n",
    "            # 计算在训练集以及测试集上的精度\n",
    "            train_correct = 0\n",
    "            train_total = 0\n",
    "            test_total = 0.0\n",
    "            test_correct = 0\n",
    "            with torch.no_grad():\n",
    "                for train_data in self.train_loader:\n",
    "                    train_inputs, train_labels = train_data\n",
    "                    train_predicted = self.model.predict(train_inputs)\n",
    "                    train_total += train_labels.size(0)\n",
    "                    train_correct += (train_predicted == train_labels).sum().item()\n",
    "                for test_data in self.test_loader:\n",
    "                    test_inputs, test_labels = test_data\n",
    "                    test_predicted = self.model.predict(test_inputs)\n",
    "                    test_total += test_labels.size(0)\n",
    "                    test_correct += (test_predicted == test_labels).sum().item()\n",
    "                    \n",
    "            self.acc_train.append(train_correct/train_total*100)\n",
    "            self.acc_test.append(test_correct/test_total*100)\n",
    "            print('Accuracy of the network on the train data: %.3f %%' % (100 * train_correct / train_total)) \n",
    "            print('Accuracy of the network on the test data: %.3f %%' % (100 * test_correct / test_total))\n",
    "\n",
    "        print('Finished Training')\n",
    "      \n",
    "    # 作出四张图，分别是训练集误差曲线、测试集误差曲线、训练集精度曲线、测试集精度曲线\n",
    "    def plot_loss_and_acc(self, figname):\n",
    "        fig = plt.figure(figsize=(10, 16))\n",
    "        # 训练集误差曲线\n",
    "        ax1 = fig.add_subplot(211)\n",
    "        ax1.plot(np.linspace(self.report_freq, self.epoch*14000, len(self.loss_train), endpoint=True), np.array(self.loss_train))\n",
    "        ax1.plot(np.linspace(self.report_freq, self.epoch*14000, len(self.loss_test), endpoint=True), np.array(self.loss_test))\n",
    "        ax1.set_xlabel('Steps')\n",
    "        ax1.set_ylabel('Loss')\n",
    "        ax1.set_title('Loss of the network on the training and testing data')\n",
    "        ax1.legend(['Train', 'Test'])\n",
    "        ax1.grid(True)\n",
    "\n",
    "        # 训练集和测试集精度曲线\n",
    "        ax2 = fig.add_subplot(212)\n",
    "        ax2.plot(np.arange(self.epoch)+1, np.array(self.acc_train))\n",
    "        ax2.plot(np.arange(self.epoch)+1, np.array(self.acc_test))\n",
    "        ax2.set_xlabel('Epoch')\n",
    "        ax2.set_ylabel('Accuracy')\n",
    "        ax2.set_title('Accuracy of the network on the training and testing data')\n",
    "        ax2.legend(['Train', 'Test'])\n",
    "        ax2.grid(True)\n",
    "        \n",
    "        plt.savefig('./img/%s_loss_acc.png' % figname)\n",
    "        plt.show()"
   ]
  },
  {
   "cell_type": "markdown",
   "metadata": {},
   "source": [
    "# 定义训练过程并开始训练 "
   ]
  },
  {
   "cell_type": "code",
   "execution_count": 6,
   "metadata": {
    "scrolled": false
   },
   "outputs": [
    {
     "name": "stderr",
     "output_type": "stream",
     "text": [
      "\r",
      "  0%|                                                                                           | 0/10 [00:00<?, ?it/s]"
     ]
    },
    {
     "name": "stdout",
     "output_type": "stream",
     "text": [
      "[1,  2000]|training loss: 0.506059| testing loss: 0.197828\n",
      "[1,  4000]|training loss: 0.160080| testing loss: 0.135481\n",
      "[1,  6000]|training loss: 0.123467| testing loss: 0.082624\n",
      "[1,  8000]|training loss: 0.097630| testing loss: 0.083102\n",
      "[1, 10000]|training loss: 0.098361| testing loss: 0.083891\n",
      "[1, 12000]|training loss: 0.081524| testing loss: 0.073269\n",
      "[1, 14000]|training loss: 0.079650| testing loss: 0.058905\n"
     ]
    },
    {
     "name": "stderr",
     "output_type": "stream",
     "text": [
      "\r",
      " 10%|████████▏                                                                         | 1/10 [02:14<20:12, 134.76s/it]"
     ]
    },
    {
     "name": "stdout",
     "output_type": "stream",
     "text": [
      "Accuracy of the network on the train data: 97.968 %\n",
      "Accuracy of the network on the test data: 97.910 %\n",
      "[2,  2000]|training loss: 0.064451| testing loss: 0.049083\n",
      "[2,  4000]|training loss: 0.062604| testing loss: 0.048969\n",
      "[2,  6000]|training loss: 0.056228| testing loss: 0.060772\n",
      "[2,  8000]|training loss: 0.054203| testing loss: 0.064467\n",
      "[2, 10000]|training loss: 0.049025| testing loss: 0.045160\n",
      "[2, 12000]|training loss: 0.050534| testing loss: 0.047234\n",
      "[2, 14000]|training loss: 0.045623| testing loss: 0.044707\n"
     ]
    },
    {
     "name": "stderr",
     "output_type": "stream",
     "text": [
      "\r",
      " 20%|████████████████▍                                                                 | 2/10 [04:28<17:56, 134.57s/it]"
     ]
    },
    {
     "name": "stdout",
     "output_type": "stream",
     "text": [
      "Accuracy of the network on the train data: 99.033 %\n",
      "Accuracy of the network on the test data: 98.970 %\n",
      "[3,  2000]|training loss: 0.040484| testing loss: 0.044458\n",
      "[3,  4000]|training loss: 0.040179| testing loss: 0.053486\n",
      "[3,  6000]|training loss: 0.041558| testing loss: 0.042542\n",
      "[3,  8000]|training loss: 0.045901| testing loss: 0.035902\n",
      "[3, 10000]|training loss: 0.037467| testing loss: 0.061952\n",
      "[3, 12000]|training loss: 0.046779| testing loss: 0.035327\n",
      "[3, 14000]|training loss: 0.034284| testing loss: 0.046654\n"
     ]
    },
    {
     "name": "stderr",
     "output_type": "stream",
     "text": [
      "\r",
      " 30%|████████████████████████▌                                                         | 3/10 [06:43<15:41, 134.55s/it]"
     ]
    },
    {
     "name": "stdout",
     "output_type": "stream",
     "text": [
      "Accuracy of the network on the train data: 99.183 %\n",
      "Accuracy of the network on the test data: 98.840 %\n",
      "[4,  2000]|training loss: 0.030679| testing loss: 0.047784\n",
      "[4,  4000]|training loss: 0.034313| testing loss: 0.037235\n",
      "[4,  6000]|training loss: 0.037529| testing loss: 0.040822\n",
      "[4,  8000]|training loss: 0.030158| testing loss: 0.038061\n",
      "[4, 10000]|training loss: 0.027866| testing loss: 0.036653\n",
      "[4, 12000]|training loss: 0.032534| testing loss: 0.037976\n",
      "[4, 14000]|training loss: 0.037308| testing loss: 0.032878\n"
     ]
    },
    {
     "name": "stderr",
     "output_type": "stream",
     "text": [
      "\r",
      " 40%|████████████████████████████████▊                                                 | 4/10 [08:56<13:24, 134.10s/it]"
     ]
    },
    {
     "name": "stdout",
     "output_type": "stream",
     "text": [
      "Accuracy of the network on the train data: 99.350 %\n",
      "Accuracy of the network on the test data: 98.940 %\n",
      "[5,  2000]|training loss: 0.029427| testing loss: 0.034430\n",
      "[5,  4000]|training loss: 0.026458| testing loss: 0.035118\n",
      "[5,  6000]|training loss: 0.022415| testing loss: 0.037101\n",
      "[5,  8000]|training loss: 0.027718| testing loss: 0.050385\n",
      "[5, 10000]|training loss: 0.029763| testing loss: 0.038729\n",
      "[5, 12000]|training loss: 0.026671| testing loss: 0.041310\n",
      "[5, 14000]|training loss: 0.029613| testing loss: 0.033670\n"
     ]
    },
    {
     "name": "stderr",
     "output_type": "stream",
     "text": [
      "\r",
      " 50%|█████████████████████████████████████████                                         | 5/10 [11:10<11:10, 134.02s/it]"
     ]
    },
    {
     "name": "stdout",
     "output_type": "stream",
     "text": [
      "Accuracy of the network on the train data: 99.585 %\n",
      "Accuracy of the network on the test data: 99.140 %\n",
      "[6,  2000]|training loss: 0.018858| testing loss: 0.033437\n",
      "[6,  4000]|training loss: 0.020657| testing loss: 0.029383\n",
      "[6,  6000]|training loss: 0.024142| testing loss: 0.043688\n",
      "[6,  8000]|training loss: 0.022270| testing loss: 0.033191\n",
      "[6, 10000]|training loss: 0.021498| testing loss: 0.034206\n",
      "[6, 12000]|training loss: 0.027022| testing loss: 0.032535\n",
      "[6, 14000]|training loss: 0.027039| testing loss: 0.038830\n"
     ]
    },
    {
     "name": "stderr",
     "output_type": "stream",
     "text": [
      "\r",
      " 60%|█████████████████████████████████████████████████▏                                | 6/10 [13:24<08:56, 134.13s/it]"
     ]
    },
    {
     "name": "stdout",
     "output_type": "stream",
     "text": [
      "Accuracy of the network on the train data: 99.582 %\n",
      "Accuracy of the network on the test data: 99.090 %\n",
      "[7,  2000]|training loss: 0.012377| testing loss: 0.034645\n",
      "[7,  4000]|training loss: 0.017233| testing loss: 0.047256\n",
      "[7,  6000]|training loss: 0.028126| testing loss: 0.032375\n",
      "[7,  8000]|training loss: 0.023230| testing loss: 0.036775\n",
      "[7, 10000]|training loss: 0.018177| testing loss: 0.037332\n",
      "[7, 12000]|training loss: 0.020427| testing loss: 0.038558\n",
      "[7, 14000]|training loss: 0.023249| testing loss: 0.046939\n"
     ]
    },
    {
     "name": "stderr",
     "output_type": "stream",
     "text": [
      "\r",
      " 70%|█████████████████████████████████████████████████████████▍                        | 7/10 [15:38<06:42, 134.17s/it]"
     ]
    },
    {
     "name": "stdout",
     "output_type": "stream",
     "text": [
      "Accuracy of the network on the train data: 99.633 %\n",
      "Accuracy of the network on the test data: 99.020 %\n",
      "[8,  2000]|training loss: 0.009224| testing loss: 0.034836\n",
      "[8,  4000]|training loss: 0.017741| testing loss: 0.037054\n",
      "[8,  6000]|training loss: 0.018785| testing loss: 0.030438\n",
      "[8,  8000]|training loss: 0.016601| testing loss: 0.039015\n",
      "[8, 10000]|training loss: 0.023506| testing loss: 0.041147\n",
      "[8, 12000]|training loss: 0.017826| testing loss: 0.031548\n",
      "[8, 14000]|training loss: 0.017253| testing loss: 0.036296\n"
     ]
    },
    {
     "name": "stderr",
     "output_type": "stream",
     "text": [
      "\r",
      " 80%|█████████████████████████████████████████████████████████████████▌                | 8/10 [17:52<04:27, 133.89s/it]"
     ]
    },
    {
     "name": "stdout",
     "output_type": "stream",
     "text": [
      "Accuracy of the network on the train data: 99.630 %\n",
      "Accuracy of the network on the test data: 99.100 %\n",
      "[9,  2000]|training loss: 0.011076| testing loss: 0.047255\n",
      "[9,  4000]|training loss: 0.015945| testing loss: 0.038717\n",
      "[9,  6000]|training loss: 0.019871| testing loss: 0.043154\n",
      "[9,  8000]|training loss: 0.018383| testing loss: 0.048362\n",
      "[9, 10000]|training loss: 0.016250| testing loss: 0.033273\n",
      "[9, 12000]|training loss: 0.013110| testing loss: 0.048132\n",
      "[9, 14000]|training loss: 0.016731| testing loss: 0.040557\n"
     ]
    },
    {
     "name": "stderr",
     "output_type": "stream",
     "text": [
      "\r",
      " 90%|█████████████████████████████████████████████████████████████████████████▊        | 9/10 [20:06<02:13, 133.89s/it]"
     ]
    },
    {
     "name": "stdout",
     "output_type": "stream",
     "text": [
      "Accuracy of the network on the train data: 99.655 %\n",
      "Accuracy of the network on the test data: 99.130 %\n",
      "[10,  2000]|training loss: 0.015920| testing loss: 0.033214\n",
      "[10,  4000]|training loss: 0.013894| testing loss: 0.040604\n",
      "[10,  6000]|training loss: 0.010953| testing loss: 0.044823\n",
      "[10,  8000]|training loss: 0.018243| testing loss: 0.036250\n",
      "[10, 10000]|training loss: 0.018306| testing loss: 0.044021\n",
      "[10, 12000]|training loss: 0.019850| testing loss: 0.031017\n",
      "[10, 14000]|training loss: 0.015532| testing loss: 0.052287\n"
     ]
    },
    {
     "name": "stderr",
     "output_type": "stream",
     "text": [
      "100%|█████████████████████████████████████████████████████████████████████████████████| 10/10 [22:18<00:00, 133.88s/it]"
     ]
    },
    {
     "name": "stdout",
     "output_type": "stream",
     "text": [
      "Accuracy of the network on the train data: 99.762 %\n",
      "Accuracy of the network on the test data: 99.100 %\n",
      "Finished Training\n"
     ]
    },
    {
     "name": "stderr",
     "output_type": "stream",
     "text": [
      "\n"
     ]
    }
   ],
   "source": [
    "hzh = HZH()  # 实例化CNN网络\n",
    "criterion = nn.CrossEntropyLoss()  # 使用交叉熵损失函数\n",
    "optimizer = optim.Adam(hzh.parameters(), lr=0.0003)  # 使用Adam优化器\n",
    "my_training = training_process(train_loader=train_loader, test_loader=test_loader,\n",
    "                               model=hzh, criterion=criterion, optimizer=optimizer, epoch=10, report_freq=2000)\n",
    "my_training.train()  # 开始训练"
   ]
  },
  {
   "cell_type": "markdown",
   "metadata": {},
   "source": [
    "# 作出训练集误差及测试集误差随训练下降曲线；以及训练集精度和测试集精度上升曲线"
   ]
  },
  {
   "cell_type": "code",
   "execution_count": 7,
   "metadata": {},
   "outputs": [
    {
     "data": {
      "image/png": "[encoded data removed]",
      "text/plain": [
       "<Figure size 720x1152 with 2 Axes>"
      ]
     },
     "metadata": {
      "needs_background": "light"
     },
     "output_type": "display_data"
    }
   ],
   "source": [
    "my_training.plot_loss_and_acc('cnn')"
   ]
  }
 ],
 "metadata": {
  "kernelspec": {
   "display_name": "Python 3",
   "language": "python",
   "name": "python3"
  },
  "language_info": {
   "codemirror_mode": {
    "name": "ipython",
    "version": 3
   },
   "file_extension": ".py",
   "mimetype": "text/x-python",
   "name": "python",
   "nbconvert_exporter": "python",
   "pygments_lexer": "ipython3",
   "version": "3.6.10"
  }
 },
 "nbformat": 4,
 "nbformat_minor": 4
}
